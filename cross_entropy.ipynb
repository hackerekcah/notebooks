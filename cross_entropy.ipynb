{
 "cells": [
  {
   "cell_type": "code",
   "execution_count": 322,
   "metadata": {},
   "outputs": [],
   "source": [
    "import torch"
   ]
  },
  {
   "cell_type": "code",
   "execution_count": 329,
   "metadata": {},
   "outputs": [],
   "source": [
    "loss = torch.nn.CrossEntropyLoss()\n",
    "input = torch.randn(3, 5, requires_grad=False)\n",
    "target = torch.LongTensor([0,1,2])\n",
    "output = loss(input, target)"
   ]
  },
  {
   "cell_type": "code",
   "execution_count": 330,
   "metadata": {},
   "outputs": [],
   "source": [
    "def ce(input, target):\n",
    "    # (N,C) logits, (N,)\n",
    "    p = torch.nn.Softmax(dim=1)(input)\n",
    "    t = target.numpy()\n",
    "    t_one_hot = (np.arange(5)==t[:, None]).astype(np.double)\n",
    "    t_one_hot = torch.from_numpy(t_one_hot)\n",
    "    t_one_hot = t_one_hot.type(torch.DoubleTensor)\n",
    "    print(\"onehot:\",t_one_hot)\n",
    "    p = p.type(torch.DoubleTensor)\n",
    "    print(\"pred:\", p)\n",
    "    #+ torch.mul((1-t_one_hot), torch.log2(1-p+1e-6))\n",
    "    ces = torch.mul(t_one_hot, torch.log(p))\n",
    "    print(\"ces:\", ces)\n",
    "    print(torch.sum(ces, dim=1))\n",
    "    loss = torch.mean(torch.sum(ces, dim=1))\n",
    "    return loss"
   ]
  },
  {
   "cell_type": "code",
   "execution_count": 331,
   "metadata": {},
   "outputs": [
    {
     "name": "stdout",
     "output_type": "stream",
     "text": [
      "onehot: tensor([[1., 0., 0., 0., 0.],\n",
      "        [0., 1., 0., 0., 0.],\n",
      "        [0., 0., 1., 0., 0.]], dtype=torch.float64)\n",
      "pred: tensor([[0.1992, 0.0724, 0.1156, 0.2671, 0.3457],\n",
      "        [0.0945, 0.1924, 0.2598, 0.2229, 0.2303],\n",
      "        [0.0234, 0.1047, 0.2221, 0.4184, 0.2314]], dtype=torch.float64)\n",
      "ces: tensor([[-1.6136, -0.0000, -0.0000, -0.0000, -0.0000],\n",
      "        [-0.0000, -1.6481, -0.0000, -0.0000, -0.0000],\n",
      "        [-0.0000, -0.0000, -1.5045, -0.0000, -0.0000]], dtype=torch.float64)\n",
      "tensor([-1.6136, -1.6481, -1.5045], dtype=torch.float64)\n"
     ]
    }
   ],
   "source": [
    "cout = ce(input, target)"
   ]
  },
  {
   "cell_type": "code",
   "execution_count": 332,
   "metadata": {},
   "outputs": [
    {
     "data": {
      "text/plain": [
       "tensor(-1.5887, dtype=torch.float64)"
      ]
     },
     "execution_count": 332,
     "metadata": {},
     "output_type": "execute_result"
    }
   ],
   "source": [
    "cout"
   ]
  }
 ],
 "metadata": {
  "kernelspec": {
   "display_name": "python3.6(asc_mt)",
   "language": "python",
   "name": "asc_mt"
  },
  "language_info": {
   "codemirror_mode": {
    "name": "ipython",
    "version": 3
   },
   "file_extension": ".py",
   "mimetype": "text/x-python",
   "name": "python",
   "nbconvert_exporter": "python",
   "pygments_lexer": "ipython3",
   "version": "3.6.6"
  }
 },
 "nbformat": 4,
 "nbformat_minor": 2
}
